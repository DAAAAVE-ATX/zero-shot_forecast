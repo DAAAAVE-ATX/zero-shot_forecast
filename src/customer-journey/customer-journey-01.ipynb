{
 "cells": [
  {
   "cell_type": "code",
   "execution_count": 12,
   "metadata": {},
   "outputs": [
    {
     "name": "stdout",
     "output_type": "stream",
     "text": [
      "   Week #              Event        Event Details\n",
      "0       0        Appointment                 null\n",
      "1       1  Prescription Fill                 null\n",
      "2       2          Treatment  {\"dose\": \"0.25 mg\"}\n",
      "3       3          Treatment  {\"dose\": \"0.25 mg\"}\n",
      "4       4          Treatment   {\"dose\": \"0.5 mg\"}\n"
     ]
    }
   ],
   "source": [
    "import pandas as pd\n",
    "import json\n",
    "\n",
    "def create_weight_loss_schedule(start_week=0):\n",
    "    # Define weeks, events, and event details\n",
    "    weeks = list(range(start_week, start_week + 68))\n",
    "    events = [\n",
    "        \"Appointment\", \"Prescription Fill\", \"Treatment\", \"Treatment\", \"Treatment\", \"Treatment\",\n",
    "        \"Treatment\", \"Follow-Up Appointment\", \"Monitoring\", \"Prescription Refill\", \"Maintenance\",\n",
    "        \"Check-In Appointment\", \"Monitoring\", \"Prescription Refill\", \"Comprehensive Evaluation Appointment\"\n",
    "    ]\n",
    "    \n",
    "    # Add recurring follow-up appointments and prescription refills\n",
    "    for week in range(20, 68, 16):\n",
    "        events.insert(week, \"Follow-Up Appointment\")\n",
    "    for week in range(10, 68, 12):\n",
    "        events.insert(week, \"Prescription Refill\")\n",
    "    \n",
    "    # Expand events list to align with full 68 weeks schedule\n",
    "    expanded_events = (\n",
    "        events[:8] + events[3:7] * 4 + events[8:] + [\"Maintenance\"] * (68 - len(events[:8]) - len(events[3:7]) * 4 - len(events[8:]))\n",
    "    )\n",
    "\n",
    "    # Create event details\n",
    "    event_details = []\n",
    "    for i, event in enumerate(expanded_events):\n",
    "        if event == \"Treatment\":\n",
    "            if i < 4:\n",
    "                dose = {\"dose\": \"0.25 mg\"}\n",
    "            elif i < 8:\n",
    "                dose = {\"dose\": \"0.5 mg\"}\n",
    "            elif i < 12:\n",
    "                dose = {\"dose\": \"1 mg\"}\n",
    "            elif i < 16:\n",
    "                dose = {\"dose\": \"1.7 mg\"}\n",
    "            else:\n",
    "                dose = {\"dose\": \"2.4 mg\"}\n",
    "            event_details.append(json.dumps(dose))\n",
    "        else:\n",
    "            event_details.append(json.dumps(None))\n",
    "\n",
    "    # Ensure all arrays are of the same length\n",
    "    if len(weeks) != len(expanded_events) or len(weeks) != len(event_details):\n",
    "        raise ValueError(\"All arrays must be of the same length\")\n",
    "\n",
    "    # Create DataFrame\n",
    "    schedule_df = pd.DataFrame({\n",
    "        \"Week #\": weeks,\n",
    "        \"Event\": expanded_events,\n",
    "        \"Event Details\": event_details\n",
    "    })\n",
    "    \n",
    "    return schedule_df\n",
    "\n",
    "# Example usage for a customer starting in week 0\n",
    "customer_schedule = create_weight_loss_schedule(start_week=0)\n",
    "print(customer_schedule.head())\n",
    "customer_schedule.to_clipboard()\n"
   ]
  },
  {
   "cell_type": "code",
   "execution_count": 13,
   "metadata": {},
   "outputs": [
    {
     "data": {
      "text/html": [
       "<div>\n",
       "<style scoped>\n",
       "    .dataframe tbody tr th:only-of-type {\n",
       "        vertical-align: middle;\n",
       "    }\n",
       "\n",
       "    .dataframe tbody tr th {\n",
       "        vertical-align: top;\n",
       "    }\n",
       "\n",
       "    .dataframe thead th {\n",
       "        text-align: right;\n",
       "    }\n",
       "</style>\n",
       "<table border=\"1\" class=\"dataframe\">\n",
       "  <thead>\n",
       "    <tr style=\"text-align: right;\">\n",
       "      <th></th>\n",
       "      <th>Week #</th>\n",
       "      <th>Event</th>\n",
       "      <th>Event Details</th>\n",
       "    </tr>\n",
       "  </thead>\n",
       "  <tbody>\n",
       "    <tr>\n",
       "      <th>0</th>\n",
       "      <td>0</td>\n",
       "      <td>Appointment</td>\n",
       "      <td>null</td>\n",
       "    </tr>\n",
       "    <tr>\n",
       "      <th>1</th>\n",
       "      <td>1</td>\n",
       "      <td>Prescription Fill</td>\n",
       "      <td>null</td>\n",
       "    </tr>\n",
       "    <tr>\n",
       "      <th>2</th>\n",
       "      <td>2</td>\n",
       "      <td>Treatment</td>\n",
       "      <td>{\"dose\": \"0.25 mg\"}</td>\n",
       "    </tr>\n",
       "    <tr>\n",
       "      <th>3</th>\n",
       "      <td>3</td>\n",
       "      <td>Treatment</td>\n",
       "      <td>{\"dose\": \"0.25 mg\"}</td>\n",
       "    </tr>\n",
       "    <tr>\n",
       "      <th>4</th>\n",
       "      <td>4</td>\n",
       "      <td>Treatment</td>\n",
       "      <td>{\"dose\": \"0.5 mg\"}</td>\n",
       "    </tr>\n",
       "  </tbody>\n",
       "</table>\n",
       "</div>"
      ],
      "text/plain": [
       "   Week #              Event        Event Details\n",
       "0       0        Appointment                 null\n",
       "1       1  Prescription Fill                 null\n",
       "2       2          Treatment  {\"dose\": \"0.25 mg\"}\n",
       "3       3          Treatment  {\"dose\": \"0.25 mg\"}\n",
       "4       4          Treatment   {\"dose\": \"0.5 mg\"}"
      ]
     },
     "execution_count": 13,
     "metadata": {},
     "output_type": "execute_result"
    }
   ],
   "source": [
    "df = create_weight_loss_schedule()\n",
    "df.head()"
   ]
  }
 ],
 "metadata": {
  "kernelspec": {
   "display_name": "Python (timesfm_env)",
   "language": "python",
   "name": "timesfm_env"
  },
  "language_info": {
   "codemirror_mode": {
    "name": "ipython",
    "version": 3
   },
   "file_extension": ".py",
   "mimetype": "text/x-python",
   "name": "python",
   "nbconvert_exporter": "python",
   "pygments_lexer": "ipython3",
   "version": "3.11.0"
  }
 },
 "nbformat": 4,
 "nbformat_minor": 2
}
